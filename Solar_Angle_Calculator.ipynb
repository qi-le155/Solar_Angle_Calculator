{
 "cells": [
  {
   "cell_type": "code",
   "execution_count": 28,
   "id": "ac6a5bf2-425a-4abf-8ebf-336674284f84",
   "metadata": {
    "scrolled": true
   },
   "outputs": [
    {
     "name": "stdout",
     "output_type": "stream",
     "text": [
      "local time：2025-04-18 12:00:00+08:00\n",
      "Solar Elevation Angle：64.53°\n",
      "Solar Azimuth Angle(from north)：154.43°\n",
      "Height/Wide：2.0995\n"
     ]
    }
   ],
   "source": [
    "from pvlib.location import Location\n",
    "from datetime import datetime\n",
    "import pytz\n",
    "import numpy as np\n",
    "\n",
    "# Step 1: set up the location and local time\n",
    "latitude = 34.3416    \n",
    "longitude = 108.9398  \n",
    "timezone = 'Asia/Shanghai'\n",
    "\n",
    "# set up the localtime \n",
    "local_time = datetime(2025, 4, 18, 12, 0, 0)  # such as 4,18,2025 12:00:00\n",
    "\n",
    "# turn local time into time zone time\n",
    "tz = pytz.timezone(timezone)\n",
    "localized_time = tz.localize(local_time)\n",
    "\n",
    "# Step 2: conllect values\n",
    "site = Location(latitude, longitude, tz=timezone)\n",
    "\n",
    "# Step 3: calculate the solar position\n",
    "solpos = site.get_solarposition(localized_time)\n",
    "\n",
    "# Step 4: calculate\n",
    "altitude = solpos['elevation'].values[0] \n",
    "azimuth = solpos['azimuth'].values[0]    \n",
    "\n",
    "# Step 5: output the result\n",
    "print(f\"local time：{localized_time}\")\n",
    "print(f\"Solar Elevation Angle：{altitude:.2f}°\")\n",
    "print(f\"Solar Azimuth Angle(from north)：{azimuth:.2f}°\")\n",
    "\n",
    "# Step 6: calculate the architecture index\n",
    "tan_altitude = np.tan(np.radians(altitude))\n",
    "\n",
    "print(f\"Height/Wide：{tan_altitude:.4f}\")"
   ]
  },
  {
   "cell_type": "code",
   "execution_count": null,
   "id": "ee30d433-bb6c-48b9-b99c-d8b6e10c4e69",
   "metadata": {},
   "outputs": [],
   "source": []
  }
 ],
 "metadata": {
  "kernelspec": {
   "display_name": "Python [conda env:base] *",
   "language": "python",
   "name": "conda-base-py"
  },
  "language_info": {
   "codemirror_mode": {
    "name": "ipython",
    "version": 3
   },
   "file_extension": ".py",
   "mimetype": "text/x-python",
   "name": "python",
   "nbconvert_exporter": "python",
   "pygments_lexer": "ipython3",
   "version": "3.9.21"
  }
 },
 "nbformat": 4,
 "nbformat_minor": 5
}
